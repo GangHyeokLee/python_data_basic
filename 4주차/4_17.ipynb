{
  "nbformat": 4,
  "nbformat_minor": 0,
  "metadata": {
    "colab": {
      "provenance": [],
      "authorship_tag": "ABX9TyO2xAtvWLbTSW/0dRuBMo0W",
      "include_colab_link": true
    },
    "kernelspec": {
      "name": "python3",
      "display_name": "Python 3"
    },
    "language_info": {
      "name": "python"
    }
  },
  "cells": [
    {
      "cell_type": "markdown",
      "metadata": {
        "id": "view-in-github",
        "colab_type": "text"
      },
      "source": [
        "<a href=\"https://colab.research.google.com/github/GangHyeokLee/python_data_basic/blob/main/4%EC%A3%BC%EC%B0%A8/4_17.ipynb\" target=\"_parent\"><img src=\"https://colab.research.google.com/assets/colab-badge.svg\" alt=\"Open In Colab\"/></a>"
      ]
    },
    {
      "cell_type": "code",
      "execution_count": 1,
      "metadata": {
        "id": "dO0vfPeIvfYo"
      },
      "outputs": [],
      "source": [
        "from bs4 import BeautifulSoup"
      ]
    },
    {
      "cell_type": "code",
      "source": [
        "import requests"
      ],
      "metadata": {
        "id": "9SSlx75BvhjU"
      },
      "execution_count": 2,
      "outputs": []
    },
    {
      "cell_type": "code",
      "source": [
        "url = \"https://finance.naver.com/news/news_read.naver?article_id=0004876636&office_id=008&mode=mainnews&type=&date=2023-04-18&page=1\"\n",
        "response = requests.get(url)"
      ],
      "metadata": {
        "id": "BgxdBLShvjpy"
      },
      "execution_count": 3,
      "outputs": []
    },
    {
      "cell_type": "code",
      "source": [
        "soup = BeautifulSoup(response.text, 'lxml')"
      ],
      "metadata": {
        "id": "GFPbGfIuvouT"
      },
      "execution_count": 4,
      "outputs": []
    },
    {
      "cell_type": "code",
      "source": [
        "soup.find('div', {'class': 'articleCont'}).text"
      ],
      "metadata": {
        "colab": {
          "base_uri": "https://localhost:8080/",
          "height": 110
        },
        "id": "gVAFACfewBlM",
        "outputId": "3418f01b-97e2-40c1-b93f-6502d545440a"
      },
      "execution_count": 6,
      "outputs": [
        {
          "output_type": "execute_result",
          "data": {
            "text/plain": [
              "'\\n(베이징 AFP=뉴스1) 우동명 기자 = 시진핑 중국 국가주석이 10일 (현지시간) 베이징 인민 대회당에서 열린 전국인민대표대회(전인대)에서 신중국 건국 이후 첫 \\'3연임\\' 국가주석에 만장일치로 선출된 뒤 선서를 하고 있다.   ⓒ AFP=뉴스1  Copyright (C) 뉴스1. All rights reserved. 무단 전재 및 재배포 금지.18일 아시아 주요 증시는 등락이 엇갈렸다. 이날 중국이 예상보다 높은 1분기 성장률을 발표했지만 3월 경제지표 일부는 기대에 못 미치면서 고르지 못한 회복세를 보여줬다.일본 도쿄증시의 닛케이225지수는 전일 대비 0.51% 오른 2만8658.83에 거래를 마감했다. 8거래일 연속 상승하며 연중 최고치를 경신했다. 간밤 미국 뉴욕증시 상승이 이날 시장 분위기를 끌어올렸다고 니혼게이자이는 전했다.중화권에선 본토 증시가 소폭 오른 것을 빼곤 약세였다. 본토 상하이종합지수는 0.22% 오른 3393.33에 장을 마쳤다. 반면 홍콩 항셍지수는 0.63% 내린 2만650.51을 기록했고, 대만 자취안지수도 0.59% 하락한 1만5869.44에 종가를 썼다.이날 발표된 중국의 1분기 경제 성장률은 전년 대비 4.5%를 기록, 로이터 기준 시장 전망치인 4.0%를 훌쩍 웃돌았다. 함께 발표된 3월 소매판매 역시 전년 대비 10.6% 증가율을 기록하며 2021년 6월 이후 최고치를 기록했다. 하지만 3월 산업생산 증가율은 3.9%, 고정자산투자(3월 누계) 증가율은 5.1%에 그치며 각각 전망치를 밑도는 등 상대적으로 부진했다.런던 이쿼티캐피탈의 스튜어트 콜 수석 이코노미스트는 블룸버그에 \"중국 경제 회복세가 얼마나 강한지, 얼마나 지속가능한지, 앞으로 계속 이어질지 등 진짜 상황을 판단하려면 시간이 필요하다\"고 지적했다.머니투데이 관련뉴스해당 언론사에서 선정하며 언론사 페이지(아웃링크)로 이동해 볼 수 있습니다.이름만 5개? \\'이승기 아내\\' 이다인, 3번 개명한 사연박규리 \"눈앞 뿌옇더니 34세 뇌출혈 진단…천운으로 이겨내\"\"임영웅 출연료 빈칸, 다른 약속\"…PD가 밝힌 섭외 비결\"두번째 남편 몰래 혼인신고\" 선넘은 고딩엄마…박미선도 경악\"남편, \\'아프다\\'는 말 8개월 무시…24살에 결국 암 진단\" 눈물\\n'"
            ],
            "application/vnd.google.colaboratory.intrinsic+json": {
              "type": "string"
            }
          },
          "metadata": {},
          "execution_count": 6
        }
      ]
    },
    {
      "cell_type": "code",
      "source": [],
      "metadata": {
        "id": "gZleHiM8wIPi"
      },
      "execution_count": null,
      "outputs": []
    }
  ]
}