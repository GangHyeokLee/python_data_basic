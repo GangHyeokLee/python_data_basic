{
  "cells": [
    {
      "cell_type": "markdown",
      "metadata": {
        "id": "view-in-github",
        "colab_type": "text"
      },
      "source": [
        "<a href=\"https://colab.research.google.com/github/GangHyeokLee/python_data_basic/blob/main/2%EC%A3%BC%EC%B0%A8/%EC%9D%B4%EA%B0%95%ED%98%81_1%EC%9D%BC%EC%B0%A8.ipynb\" target=\"_parent\"><img src=\"https://colab.research.google.com/assets/colab-badge.svg\" alt=\"Open In Colab\"/></a>"
      ]
    },
    {
      "cell_type": "markdown",
      "metadata": {
        "id": "rKiHkzUc7VOV"
      },
      "source": [
        "# 과제 1\n",
        "## Q1. \n",
        "\n",
        "\n",
        "<div class=\"alert alert-success\">\n",
        "[문제1]     \n",
        "    \n",
        "원소가 1부터 5까지인 배열 arr이 있다. 각각의 요소의 루트를 씌운 값의 총합을 구하시오. \n",
        "</div>\n",
        "\n",
        "------------\n",
        "[힌트]  \n",
        "np.arange(1, 6)  \n",
        "list = [1,2,3,4,5]   \n",
        "8.382332347441762  "
      ]
    },
    {
      "cell_type": "code",
      "source": [
        "import numpy as np"
      ],
      "metadata": {
        "id": "U1YUBXaPB9rt"
      },
      "execution_count": 4,
      "outputs": []
    },
    {
      "cell_type": "code",
      "execution_count": 9,
      "metadata": {
        "id": "aOW6jRjDTt__",
        "colab": {
          "base_uri": "https://localhost:8080/"
        },
        "outputId": "ffca8adf-159e-4eee-cd92-3613b23b4adf"
      },
      "outputs": [
        {
          "output_type": "stream",
          "name": "stdout",
          "text": [
            "8.382332347441762\n"
          ]
        }
      ],
      "source": [
        "arr=np.arange(1,6)\n",
        "\n",
        "print(sum(np.sqrt(arr)))\n"
      ]
    },
    {
      "cell_type": "markdown",
      "metadata": {
        "id": "jfW2jQRL7VOf"
      },
      "source": [
        "## Q2. \n",
        "\n",
        "<div class=\"alert alert-success\">\n",
        "[문제2]\n",
        "    \n",
        "    \n",
        "다음과 같은 배열 arr2를 만드시오.  \n",
        "    \n",
        "    \n",
        "arr2 = ( arr의 총합, arr의 평균, arr의 최소값, arr의 최대값)  \n",
        "[15.  3.  1.  5.]  \n",
        "</div>"
      ]
    },
    {
      "cell_type": "code",
      "execution_count": 18,
      "metadata": {
        "id": "JTgNQNbFTuAA",
        "colab": {
          "base_uri": "https://localhost:8080/"
        },
        "outputId": "ac62bebc-e31a-49f0-9e81-6484cf3e83b9"
      },
      "outputs": [
        {
          "output_type": "stream",
          "name": "stdout",
          "text": [
            "[15.  3.  1.  5.]\n"
          ]
        }
      ],
      "source": [
        "arr2 = np.array([sum(arr), np.mean(arr), np.min(arr), np.max(arr)])\n",
        "print(arr2)"
      ]
    },
    {
      "cell_type": "markdown",
      "metadata": {
        "id": "_Bvykj0V7VOh"
      },
      "source": [
        "## Q3.\n",
        "\n",
        "<div class=\"alert alert-success\">\n",
        "[문제3]\n",
        "    \n",
        "    \n",
        "arr2의 구조를 확인하고(shape),\n",
        "arr2를 전치(transpose)한 배열 arr3를 만드시오.\n",
        "</div>\n",
        "\n",
        "------------\n",
        "[힌트]  \n",
        "\n",
        "arr3의 출력 결과\n",
        "\n",
        "[[15.]  \n",
        " [ 3.]   \n",
        " [ 1.]  \n",
        " [ 5.]]"
      ]
    },
    {
      "cell_type": "code",
      "execution_count": 22,
      "metadata": {
        "id": "7To-1VpATuAB",
        "colab": {
          "base_uri": "https://localhost:8080/"
        },
        "outputId": "961a8751-eaff-4bae-8631-25abcced0424"
      },
      "outputs": [
        {
          "output_type": "stream",
          "name": "stdout",
          "text": [
            "(4,)\n",
            "[[15.]\n",
            " [ 3.]\n",
            " [ 1.]\n",
            " [ 5.]]\n"
          ]
        }
      ],
      "source": [
        "print(arr2.shape)\n",
        "arr3 = arr2.reshape(4,1)\n",
        "print(arr3)"
      ]
    },
    {
      "cell_type": "markdown",
      "metadata": {
        "id": "eAyEo1pr7VOj"
      },
      "source": [
        "\n",
        "## Q4. \n",
        "\n",
        "\n",
        "<div class=\"alert alert-success\">\n",
        "[문제4]\n",
        "    \n",
        "    \n",
        "arr2와 arr3를 행렬 곱 연산한 결과 값은 ? \n",
        "</div>\n",
        "\n",
        "[힌트]\n",
        "\n",
        "\n",
        " 260.\n",
        " \n",
        " \n",
        " 또는\n",
        " \n",
        " \n",
        " \n",
        " [[225.  45.  15.  75.]  \n",
        " [ 45.   9.   3.  15.]   \n",
        " [ 15.   3.   1.   5.]   \n",
        " [ 75.  15.   5.  25.]]   \n",
        "\n",
        "\n"
      ]
    },
    {
      "cell_type": "code",
      "execution_count": 26,
      "metadata": {
        "id": "R_rZcbN-TuAC",
        "colab": {
          "base_uri": "https://localhost:8080/"
        },
        "outputId": "a914b0eb-1bdd-42a3-a898-5a5eefe3a6a2"
      },
      "outputs": [
        {
          "output_type": "stream",
          "name": "stdout",
          "text": [
            "[260.]\n",
            "[[225.  45.  15.  75.]\n",
            " [ 45.   9.   3.  15.]\n",
            " [ 15.   3.   1.   5.]\n",
            " [ 75.  15.   5.  25.]]\n"
          ]
        }
      ],
      "source": [
        "print(arr2.dot(arr3))\n",
        "print(arr3.dot(arr2.reshape(1,4)))"
      ]
    },
    {
      "cell_type": "markdown",
      "metadata": {
        "id": "XXD0gqZd7VOl"
      },
      "source": [
        "# 과제 2\n",
        "## Q5.\n",
        "\n",
        "\n",
        "<div class=\"alert alert-success\">\n",
        "[문제5]\n",
        "    \n",
        "    \n",
        "arange 함수를 이용하여 원소가 1부터 16까지인 배열 arr을 만드세요.\n",
        "</div>\n"
      ]
    },
    {
      "cell_type": "code",
      "execution_count": 30,
      "metadata": {
        "id": "8YdS8C_RTuAC",
        "colab": {
          "base_uri": "https://localhost:8080/"
        },
        "outputId": "aed68e9a-ef17-458f-8416-ba10a920ffb8"
      },
      "outputs": [
        {
          "output_type": "stream",
          "name": "stdout",
          "text": [
            "[ 1  2  3  4  5  6  7  8  9 10 11 12 13 14 15 16]\n"
          ]
        }
      ],
      "source": [
        "arr = np.arange(1,17)\n",
        "print(arr)"
      ]
    },
    {
      "cell_type": "markdown",
      "metadata": {
        "id": "xQoZlXT37VOo"
      },
      "source": [
        "## Q6. \n",
        "\n",
        "\n",
        "<div class=\"alert alert-success\">\n",
        "[문제6]\n",
        "    \n",
        "    \n",
        "arr 배열을 4행 4열로 형상 변경하세요.\n",
        "</div>\n"
      ]
    },
    {
      "cell_type": "code",
      "execution_count": 32,
      "metadata": {
        "id": "yqR3O1ddTuAD",
        "colab": {
          "base_uri": "https://localhost:8080/"
        },
        "outputId": "eae4af0d-4c48-42c3-c448-b2ba758bfc24"
      },
      "outputs": [
        {
          "output_type": "stream",
          "name": "stdout",
          "text": [
            "[[ 1  2  3  4]\n",
            " [ 5  6  7  8]\n",
            " [ 9 10 11 12]\n",
            " [13 14 15 16]]\n"
          ]
        }
      ],
      "source": [
        "arr = arr.reshape(4,4)\n",
        "print(arr)"
      ]
    },
    {
      "cell_type": "markdown",
      "metadata": {
        "id": "Z1Krivks7VOq"
      },
      "source": [
        "## Q7. \n",
        "\n",
        "\n",
        "<div class=\"alert alert-success\">\n",
        "[문제7]\n",
        "    \n",
        "arr에 대해 인덱싱과 슬라이싱을 이용하여 다음과 같은 배열 arr2, arr3를 만드시오.  \n",
        "arr2 :   \n",
        " [[2 3 4]  \n",
        " [6 7 8]]\n",
        "\n",
        "arr3 :   \n",
        " [[5 6 7]]  \n",
        "</div>\n",
        "\n",
        "\n"
      ]
    },
    {
      "cell_type": "code",
      "execution_count": 51,
      "metadata": {
        "id": "9Ewu4czMTuAD",
        "colab": {
          "base_uri": "https://localhost:8080/"
        },
        "outputId": "bcd37b73-5c6c-49ca-ba39-bbf01eaa7dea"
      },
      "outputs": [
        {
          "output_type": "stream",
          "name": "stdout",
          "text": [
            "\n",
            " arr2: \n",
            " [[2 3 4]\n",
            " [6 7 8]]\n",
            "\n",
            " arr3: \n",
            " [5 6 7]\n"
          ]
        }
      ],
      "source": [
        "arr2 = arr[0:2, 1:4]\n",
        "print('\\n arr2: \\n', arr2)\n",
        "\n",
        "arr3 = arr[1, 0:3]\n",
        "print('\\n arr3: \\n',arr3)"
      ]
    },
    {
      "cell_type": "markdown",
      "metadata": {
        "id": "dvS0QSuF7VOs"
      },
      "source": [
        "## Q8.\n",
        "\n",
        "<div class=\"alert alert-success\">\n",
        "[문제8]\n",
        "    \n",
        "arr3를 전치(transpose)하세요.\n",
        "</div>\n",
        "\n",
        "-----------------\n",
        "[힌트]\n",
        "\n",
        "\n",
        "[[5]  \n",
        " [6]  \n",
        " [7]]  \n"
      ]
    },
    {
      "cell_type": "code",
      "execution_count": 59,
      "metadata": {
        "id": "cTBB34sUTuAE",
        "colab": {
          "base_uri": "https://localhost:8080/"
        },
        "outputId": "2c148035-6a2b-4102-e771-9fc709347e6f"
      },
      "outputs": [
        {
          "output_type": "stream",
          "name": "stdout",
          "text": [
            "[[5]\n",
            " [6]\n",
            " [7]]\n"
          ]
        }
      ],
      "source": [
        "arr3 = arr3.reshape(1,3).transpose()\n",
        "print(arr3)"
      ]
    },
    {
      "cell_type": "markdown",
      "metadata": {
        "id": "B7bP7F3i7VOv"
      },
      "source": [
        "## Q9.\n",
        "\n",
        "\n",
        "<div class=\"alert alert-success\">\n",
        "[문제9]\n",
        "    \n",
        "arr2와 arr3를 행렬 연산한 결과를 구하시오.\n",
        "</div>\n",
        "\n",
        "-----------------\n",
        "\n",
        "\n",
        "\n",
        "\n",
        "**[결과]**  \n",
        "[[ 56]  \n",
        " [128]]"
      ]
    },
    {
      "cell_type": "code",
      "execution_count": 60,
      "metadata": {
        "id": "fpKMMa6wTuAE",
        "colab": {
          "base_uri": "https://localhost:8080/"
        },
        "outputId": "dbded0a0-c2bc-43e3-80b3-25c5bb16a7d3"
      },
      "outputs": [
        {
          "output_type": "stream",
          "name": "stdout",
          "text": [
            "[[ 56]\n",
            " [128]]\n"
          ]
        }
      ],
      "source": [
        "print(np.dot(arr2, arr3))"
      ]
    },
    {
      "cell_type": "markdown",
      "metadata": {
        "id": "qiIru0If7VOx"
      },
      "source": [
        "# 과제 3\n",
        "## Q10.\n",
        "\n",
        "<div class=\"alert alert-success\">\n",
        "[문제10]\n",
        "    \n",
        "np.random을 이용하여 모든 요소의 값이 3 <= 값 < 7인   \n",
        "요소 4개를 갖는 1차원 배열 arr을 생성하시오.  \n",
        "예시) arr = [4, 3, 4, 6]  \n",
        "</div>\n",
        "\n",
        "\n",
        "\n"
      ]
    },
    {
      "cell_type": "code",
      "execution_count": 62,
      "metadata": {
        "id": "yzqVs3ieTuAF",
        "colab": {
          "base_uri": "https://localhost:8080/"
        },
        "outputId": "12c814cb-7e42-49ab-ba30-3b785b2c3d91"
      },
      "outputs": [
        {
          "output_type": "stream",
          "name": "stdout",
          "text": [
            "[4 3 5 3]\n"
          ]
        }
      ],
      "source": [
        "arr = np.random.randint(3, 7, 4)\n",
        "print(arr)"
      ]
    },
    {
      "cell_type": "markdown",
      "metadata": {
        "id": "XHC6Qbjs7VOz"
      },
      "source": [
        "## Q11. \n",
        "\n",
        "<div class=\"alert alert-success\">\n",
        "[문제11]\n",
        "    \n",
        "arr을 2*2 형상 변경하시오.\n",
        "</div>\n"
      ]
    },
    {
      "cell_type": "code",
      "execution_count": 65,
      "metadata": {
        "id": "NFm7UYF5TuAF",
        "colab": {
          "base_uri": "https://localhost:8080/"
        },
        "outputId": "98a3ddae-1b3d-4e9a-a979-d509adf058a8"
      },
      "outputs": [
        {
          "output_type": "stream",
          "name": "stdout",
          "text": [
            "[[4 3]\n",
            " [5 3]]\n"
          ]
        }
      ],
      "source": [
        "arr = arr.reshape(2, 2)\n",
        "print(arr)"
      ]
    },
    {
      "cell_type": "markdown",
      "metadata": {
        "id": "oqbJuv3tNpuU"
      },
      "source": [
        "## Q12. \n",
        "\n",
        "\n",
        "<div class=\"alert alert-success\">\n",
        "[문제12]\n",
        "다음과 같이 동작하는 로또 번호 생성기를 작성하시오.\n",
        "    \n",
        "    \n",
        "    - 사용자로부터 로또 번호를 몇 개 생성할지 입력받는다    \n",
        "    \n",
        "    - 사용자가 입력한 개수 만큼 로또 번호를 생성하여 출력한다    \n",
        "    \n",
        "    - 로또번호는 숫자가 작은 수부터 순서대로 정렬하여 출력한다\n",
        "    \n",
        "    - 로또 번호는 1부터 46까지 서로 다른 6개의 정수로 이루어져있다    \n",
        "        \n",
        "    - 로또 번호 생성기 로직은 함수로 작성하여 재활용이 가능하도록 한다    \n",
        "   \n",
        "\n",
        "</div>\n",
        "    \n",
        "[실행 예시]\n",
        "로또번호를 몇 개 생성할까요? 3  \n",
        "1. 로또번호: [10 13 16 30 37 41]  \n",
        "2. 로또번호: [ 4 10 15 25 29 42]  \n",
        "3. 로또번호: [ 6 26 31 39 40 45]  \n",
        "\n",
        "  "
      ]
    },
    {
      "cell_type": "code",
      "execution_count": 71,
      "metadata": {
        "id": "wDUTTmnETuAF",
        "colab": {
          "base_uri": "https://localhost:8080/"
        },
        "outputId": "b0478052-397d-441e-e75a-33757e8d8eea"
      },
      "outputs": [
        {
          "output_type": "stream",
          "name": "stdout",
          "text": [
            "로또 번호를 몇 개 생성할까요?3\n",
            "1. 로또번호: [ 4  9 19 38 41 43]\n",
            "2. 로또번호: [13 20 25 26 40 42]\n",
            "3. 로또번호: [ 2 11 16 22 22 30]\n"
          ]
        }
      ],
      "source": [
        "n = int(input('로또 번호를 몇 개 생성할까요?'))\n",
        "for i in range(n):\n",
        "  tmp = np.random.randint(1, 47, 6)\n",
        "  tmp.sort()\n",
        "  print('{}. 로또번호:'.format(i+1), tmp)"
      ]
    },
    {
      "cell_type": "markdown",
      "metadata": {
        "id": "nZZ1gpFRRxSm"
      },
      "source": [
        "## Q13. \n",
        "\n",
        "\n",
        "<div class=\"alert alert-success\">\n",
        "    \n",
        "[문제13]\n",
        "    \n",
        "오늘의 로또번호는 [9, 12, 17, 21, 40, 42]입니다.  \n",
        "    \n",
        "오늘의 로또번호 합보다 더 큰 조합을 가지고 있는 경우, 이벤트 쿠폰을 발행하려고 합니다.\n",
        "    \n",
        "몇 장의 이벤트 쿠폰을 발행해야하는지 판단하는 로직을 작성하세요\n",
        "\n",
        "</div>\n",
        "\n",
        "[실행 예시]\n",
        "\n",
        "\n",
        "\n",
        "로또번호를 몇 개 생성할까요? 3\n",
        "1. 로또번호: [ 1 15 36 39 41 45]  \n",
        "이벤트 당첨, 오늘의 로또번호 합= 141, 당첨된 로또번호 합=177\n",
        "2. 로또번호: [ 6  9 12 19 27 42]  \n",
        "3. 로또번호: [ 4  7 36 39 39 44]  \n",
        "이벤트 당첨, 오늘의 로또번호 합= 141, 당첨된 로또번호 합=169\n"
      ]
    },
    {
      "cell_type": "code",
      "execution_count": null,
      "metadata": {
        "id": "03f1vg5CRwhf"
      },
      "outputs": [],
      "source": [
        "today = np.array([9, 12, 17, 21, 40, 42])\n",
        "\n",
        "def createLottoNumber2(count):\n",
        "   # 작성하시오\n",
        "    \n",
        "count = int(input(\"로또번호를 몇 개 생성할까요? \"))\n",
        "createLottoNumber2(count)"
      ]
    },
    {
      "cell_type": "markdown",
      "metadata": {
        "id": "OnXN17-xTuAG"
      },
      "source": [
        "# 과제 4\n",
        "## Q14. \n",
        "\n",
        "\n",
        "<div class=\"alert alert-success\">\n",
        "    \n",
        "[문제14]\n",
        "    \n",
        "수학 시험 답안 채점 프로그램을 만드시오.\n",
        "    \n",
        "    정답 = [3, 2, 1, 4, 4, 3, 4, 4, 3, 3]\n",
        "    \n",
        "    - 문제 수: 10\n",
        "    - 보기: 1번 ~ 5번\n",
        "    - 학생들의 샘플 답안 생성: 10개\n",
        "    - 문항 별 정오답 여부 출력\n",
        "    - 10점 만점에 몇 점인지 출력\n",
        "</div>\n",
        "\n",
        "\n",
        "1. 채점결과: [False  True False False  True False False False  True  True], 점수: 4\n",
        "2. 채점결과: [False  True False  True False False False  True False False], 점수: 3\n",
        "3. 채점결과: [ True  True  True False False False False  True False  True], 점수: 5\n",
        "4. 채점결과: [False False  True False False  True False False False  True], 점수: 3\n",
        "5. 채점결과: [False  True False  True False  True False  True False False], 점수: 4\n",
        "6. 채점결과: [False False False  True False False False False False False], 점수: 1\n",
        "7. 채점결과: [False  True  True False  True False False False False  True], 점수: 4\n",
        "8. 채점결과: [False  True  True False False False  True False False False], 점수: 3\n",
        "9. 채점결과: [ True False False False False  True False  True False False], 점수: 3\n",
        "10. 채점결과: [False  True  True False False False  True False False False], 점수: 3\n"
      ]
    },
    {
      "cell_type": "code",
      "execution_count": null,
      "metadata": {
        "id": "Xz3gIbnMTuAH"
      },
      "outputs": [],
      "source": [
        "# 주어진 코드\n",
        "correct = np.array([3, 2, 1, 4, 4, 3, 4, 4, 3, 3])\n",
        "\n",
        "count = 10\n",
        "students = 10\n",
        "answers = np.random.randint(1, 5, size=count*students)\n",
        "answers = answers.reshape(count, students)"
      ]
    },
    {
      "cell_type": "code",
      "execution_count": null,
      "metadata": {
        "id": "RjMfoJqZTuAH"
      },
      "outputs": [],
      "source": [
        "def check_answer_sheet(correct, answers):\n",
        "    # 작성하시오\n",
        "\n",
        "check_answer_sheet(correct, answers)"
      ]
    },
    {
      "cell_type": "code",
      "execution_count": null,
      "metadata": {
        "id": "ANu1WpsvTuAH"
      },
      "outputs": [],
      "source": []
    }
  ],
  "metadata": {
    "colab": {
      "provenance": [],
      "toc_visible": true,
      "include_colab_link": true
    },
    "kernelspec": {
      "display_name": "Python 3",
      "language": "python",
      "name": "python3"
    },
    "language_info": {
      "codemirror_mode": {
        "name": "ipython",
        "version": 3
      },
      "file_extension": ".py",
      "mimetype": "text/x-python",
      "name": "python",
      "nbconvert_exporter": "python",
      "pygments_lexer": "ipython3",
      "version": "3.8.5"
    },
    "toc": {
      "base_numbering": 1,
      "nav_menu": {},
      "number_sections": false,
      "sideBar": true,
      "skip_h1_title": false,
      "title_cell": "Table of Contents",
      "title_sidebar": "Contents",
      "toc_cell": false,
      "toc_position": {},
      "toc_section_display": true,
      "toc_window_display": true
    }
  },
  "nbformat": 4,
  "nbformat_minor": 0
}