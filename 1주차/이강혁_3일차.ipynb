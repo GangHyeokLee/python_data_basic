{
  "nbformat": 4,
  "nbformat_minor": 0,
  "metadata": {
    "colab": {
      "provenance": [],
      "toc_visible": true,
      "include_colab_link": true
    },
    "kernelspec": {
      "name": "python3",
      "display_name": "Python 3"
    },
    "language_info": {
      "name": "python"
    }
  },
  "cells": [
    {
      "cell_type": "markdown",
      "metadata": {
        "id": "view-in-github",
        "colab_type": "text"
      },
      "source": [
        "<a href=\"https://colab.research.google.com/github/GangHyeokLee/python_data_basic/blob/main/1%EC%A3%BC%EC%B0%A8/%EC%9D%B4%EA%B0%95%ED%98%81_3%EC%9D%BC%EC%B0%A8.ipynb\" target=\"_parent\"><img src=\"https://colab.research.google.com/assets/colab-badge.svg\" alt=\"Open In Colab\"/></a>"
      ]
    },
    {
      "cell_type": "markdown",
      "source": [
        "#제어문\n"
      ],
      "metadata": {
        "id": "N6jhKKBL_QoN"
      }
    },
    {
      "cell_type": "markdown",
      "source": [
        "##IF문\n",
        "Q1. 다음 코드의 결과값은 무엇일까?\n",
        "\n",
        "a = \"Life is too short, you need python\"\n",
        "\n",
        "if \"wife\" in a: print(\"wife\")\n",
        "\n",
        "elif \"python\" in a and \"you\" not in a: print(\"python\")\n",
        "\n",
        "elif \"shirt\" not in a:print(\"shirt\")\n",
        "\n",
        "elif \"need\" in a: print(\"need\")\n",
        "\n",
        "else: print(\"none\")"
      ],
      "metadata": {
        "id": "3ryjv2Ld_WDO"
      }
    },
    {
      "cell_type": "code",
      "source": [
        "#shirt"
      ],
      "metadata": {
        "id": "Pn9EMOr5Sx1V"
      },
      "execution_count": null,
      "outputs": []
    },
    {
      "cell_type": "markdown",
      "source": [
        "##While문\n",
        "Q1. while문을 이용하여 아래와 같이 별(*)을 표시하는 프로그램을 작성해보자\n"
      ],
      "metadata": {
        "id": "bsElD7Y2AJvC"
      }
    },
    {
      "cell_type": "code",
      "source": [
        "i=0\n",
        "while True:\n",
        "  print('*'*(i+1))\n",
        "  i+=1\n",
        "  if (i>=5):\n",
        "    break\n",
        "\n",
        "\n",
        "#결과값\n",
        "#*\n",
        "#**\n",
        "#***\n",
        "#****\n",
        "#*****"
      ],
      "metadata": {
        "id": "FB4lbVsG_e6X",
        "colab": {
          "base_uri": "https://localhost:8080/"
        },
        "outputId": "c700e9b5-c7be-49ce-97be-e1d2e04d0c41"
      },
      "execution_count": 2,
      "outputs": [
        {
          "output_type": "stream",
          "name": "stdout",
          "text": [
            "*\n",
            "**\n",
            "***\n",
            "****\n",
            "*****\n"
          ]
        }
      ]
    },
    {
      "cell_type": "markdown",
      "source": [
        "##For 문\n",
        "Q1. A학급에 총 10명의 학생이 있다. 이 학생들의 중간고사 점수는 다음과 같다\n",
        "\n",
        "[70, 60, 55, 75, 95, 90, 80, 80, 85, 100]\n",
        "\n",
        "for문을 이용하여 A학급의 평균 점수를 구해 보자"
      ],
      "metadata": {
        "id": "ZN-myqjRAkrG"
      }
    },
    {
      "cell_type": "code",
      "source": [
        "A = [70, 60, 55, 75, 95, 90, 80, 80, 85, 100]\n",
        "\n",
        "sum = 0\n",
        "for i in A:\n",
        "  sum+=i\n",
        "\n",
        "print(sum/len(A))\n",
        "\n",
        "\n",
        "#결과값\n",
        "#79.0"
      ],
      "metadata": {
        "id": "kwqG7nhdA0s8",
        "colab": {
          "base_uri": "https://localhost:8080/"
        },
        "outputId": "90df347a-49f2-4947-a51c-1de9bbb14c5d"
      },
      "execution_count": 5,
      "outputs": [
        {
          "output_type": "stream",
          "name": "stdout",
          "text": [
            "79.0\n"
          ]
        }
      ]
    },
    {
      "cell_type": "markdown",
      "source": [
        "#함수"
      ],
      "metadata": {
        "id": "nhSVzV71BKip"
      }
    },
    {
      "cell_type": "markdown",
      "source": [
        "## 피보나치 수열"
      ],
      "metadata": {
        "id": "mUzBtRxkXn2v"
      }
    },
    {
      "cell_type": "markdown",
      "source": [
        "\n",
        "Q1. 첫번째 항의 값이 0이고 두 번째 항의 값이 1일때, 이후에 이어지는 항들은 이전의 두 항을 더한 값으로 이루어지는 수열을 피보나치 수열이라고 한다.\n",
        "\n",
        "0, 1, 1, 2, 3, 5, 8, 13, ...\n",
        "\n",
        "입력을 정수n으로 받았을 때, n 이하까지의 피보나치 수열을 출력하는 함수를 작성해보자"
      ],
      "metadata": {
        "id": "w6-sFvPeXm24"
      }
    },
    {
      "cell_type": "code",
      "source": [
        "def fib(n):\n",
        "  if n == 0: return 0     #n이 0일 때는 0을 리턴\n",
        "  if n == 1: return 1      #n이 1일 떄는 1을 리턴\n",
        "  return fib(n-1) + fib(n-2)  #n이 2이상일 때는 그 이전의 두 값을 더하여 리턴"
      ],
      "metadata": {
        "id": "xYHwfiuXJ39q"
      },
      "execution_count": 8,
      "outputs": []
    },
    {
      "cell_type": "code",
      "source": [
        "for i in range(10):\n",
        "  print(fib(i))"
      ],
      "metadata": {
        "id": "EtTo5Yi9Pn9L",
        "colab": {
          "base_uri": "https://localhost:8080/"
        },
        "outputId": "ddafce87-b27d-42f7-8a29-eb5edf9c6752"
      },
      "execution_count": 9,
      "outputs": [
        {
          "output_type": "stream",
          "name": "stdout",
          "text": [
            "0\n",
            "1\n",
            "1\n",
            "2\n",
            "3\n",
            "5\n",
            "8\n",
            "13\n",
            "21\n",
            "34\n"
          ]
        }
      ]
    },
    {
      "cell_type": "markdown",
      "source": [
        "##문자열 압축하기\n",
        "Q1. 문자열을 입력 받아 같은 문자가 연속적으로 반복되는 경우에 그 반복 횟수를 표시해 문자열을 압축하여 표시해 보자\n",
        "\n",
        "> 입력예시: aaabbcccccca\n",
        "\n",
        "> 출력예시: a3b2c6a1"
      ],
      "metadata": {
        "id": "_P4Zg35NL6Vm"
      }
    },
    {
      "cell_type": "code",
      "source": [
        "#'코드를 작성하시오'\n",
        "def compress_string(s):\n",
        "  result = []\n",
        "  for i in range(len(s)):\n",
        "    if i == 0:\n",
        "      \n",
        "\n",
        "\n",
        "  return result"
      ],
      "metadata": {
        "id": "GsoG5EhNMJs4"
      },
      "execution_count": null,
      "outputs": []
    },
    {
      "cell_type": "code",
      "source": [
        "print(compress_string(\"aaabbcccccca\"))"
      ],
      "metadata": {
        "id": "H1E5BkuKPL69"
      },
      "execution_count": null,
      "outputs": []
    },
    {
      "cell_type": "markdown",
      "source": [
        "##Duplicate Numbers\n",
        "Q1. 0 ~ 9 까지의 문자로 된 숫자를 입력받았을 때, 이 입력값이 0 ~ 9까지의 모든 숫자가 각각 한 번씩만 사용된 것인지 확인하는 함수를 작성해 보자.\n",
        "\n",
        ">입력예시 : 0123456789 01234 01234567890 6789012345 012322456789\n",
        "\n",
        ">출력예시 : true false false true false"
      ],
      "metadata": {
        "id": "fpfVW4qwMMO_"
      }
    },
    {
      "cell_type": "code",
      "source": [
        "#'코드를 작성하시오'\n",
        "\n",
        "def chkDupNum(s):\n",
        "  result = set(s)\n",
        "\n",
        "  if len(result) == len(s):\n",
        "    return True\n",
        "  else:\n",
        "    return False"
      ],
      "metadata": {
        "id": "LuXD0E0yM0nS"
      },
      "execution_count": 10,
      "outputs": []
    },
    {
      "cell_type": "code",
      "source": [
        "print(chkDupNum(\"0123456789\"))\n",
        "print(chkDupNum(\"01234\"))\n",
        "print(chkDupNum(\"01234567890\"))\n",
        "print(chkDupNum(\"6789012345\"))\n",
        "print(chkDupNum(\"012322456789\"))"
      ],
      "metadata": {
        "id": "Mw7jJPwDPDLP",
        "colab": {
          "base_uri": "https://localhost:8080/"
        },
        "outputId": "7c02cee5-9b23-47a1-dbb6-df6cb0565134"
      },
      "execution_count": 11,
      "outputs": [
        {
          "output_type": "stream",
          "name": "stdout",
          "text": [
            "True\n",
            "True\n",
            "False\n",
            "True\n",
            "False\n"
          ]
        }
      ]
    },
    {
      "cell_type": "markdown",
      "source": [
        "#프로그램 구조"
      ],
      "metadata": {
        "id": "ah4ZzlwWLVWE"
      }
    },
    {
      "cell_type": "markdown",
      "source": [
        "##클래스\n",
        "Q1. 다음과 같이 동작하는 클래스 Calculator를 작성해 보자.\n",
        "\n",
        ">cal1 = Calculator([1,2,3,4,5])\n",
        "\n",
        ">cal1.sum() # 15\n",
        "\n",
        ">cal1.avg() # 3.0\n",
        "\n",
        ">cal2 = Calculator([6,7,8,9,10])\n",
        "\n",
        ">cal2.sum() # 40\n",
        "\n",
        "> cal2.avg() #8.0"
      ],
      "metadata": {
        "id": "9jjNEFxuKPRt"
      }
    },
    {
      "cell_type": "code",
      "source": [
        "class Calculator:\n",
        "  def __init(self, numberList):\n",
        "    self.numberList = numberList\n",
        "  \n",
        "  def sum(self):\n",
        "    return sum(self.numberList)\n",
        "\n",
        "  def avg(self):\n",
        "    return sum(self.numberList) / len(self.numberList)\n",
        "\n"
      ],
      "metadata": {
        "id": "X7-hWEfVKqgG"
      },
      "execution_count": 12,
      "outputs": []
    },
    {
      "cell_type": "code",
      "source": [
        "cal1 = Calculator([1,2,3,4,5])\n",
        "print(cal1.sum()) # 15\n",
        "print(cal1.avg()) # 3.0"
      ],
      "metadata": {
        "id": "tParL02iLNGM",
        "colab": {
          "base_uri": "https://localhost:8080/",
          "height": 213
        },
        "outputId": "3812836a-ed20-4c85-c497-afe8c6ad521f"
      },
      "execution_count": 13,
      "outputs": [
        {
          "output_type": "error",
          "ename": "TypeError",
          "evalue": "ignored",
          "traceback": [
            "\u001b[0;31m---------------------------------------------------------------------------\u001b[0m",
            "\u001b[0;31mTypeError\u001b[0m                                 Traceback (most recent call last)",
            "\u001b[0;32m<ipython-input-13-81ef29b533ef>\u001b[0m in \u001b[0;36m<module>\u001b[0;34m\u001b[0m\n\u001b[0;32m----> 1\u001b[0;31m \u001b[0mcal1\u001b[0m \u001b[0;34m=\u001b[0m \u001b[0mCalculator\u001b[0m\u001b[0;34m(\u001b[0m\u001b[0;34m[\u001b[0m\u001b[0;36m1\u001b[0m\u001b[0;34m,\u001b[0m\u001b[0;36m2\u001b[0m\u001b[0;34m,\u001b[0m\u001b[0;36m3\u001b[0m\u001b[0;34m,\u001b[0m\u001b[0;36m4\u001b[0m\u001b[0;34m,\u001b[0m\u001b[0;36m5\u001b[0m\u001b[0;34m]\u001b[0m\u001b[0;34m)\u001b[0m\u001b[0;34m\u001b[0m\u001b[0;34m\u001b[0m\u001b[0m\n\u001b[0m\u001b[1;32m      2\u001b[0m \u001b[0mprint\u001b[0m\u001b[0;34m(\u001b[0m\u001b[0mcal1\u001b[0m\u001b[0;34m.\u001b[0m\u001b[0msum\u001b[0m\u001b[0;34m(\u001b[0m\u001b[0;34m)\u001b[0m\u001b[0;34m)\u001b[0m \u001b[0;31m# 15\u001b[0m\u001b[0;34m\u001b[0m\u001b[0;34m\u001b[0m\u001b[0m\n\u001b[1;32m      3\u001b[0m \u001b[0mprint\u001b[0m\u001b[0;34m(\u001b[0m\u001b[0mcal1\u001b[0m\u001b[0;34m.\u001b[0m\u001b[0mavg\u001b[0m\u001b[0;34m(\u001b[0m\u001b[0;34m)\u001b[0m\u001b[0;34m)\u001b[0m \u001b[0;31m# 3.0\u001b[0m\u001b[0;34m\u001b[0m\u001b[0;34m\u001b[0m\u001b[0m\n",
            "\u001b[0;31mTypeError\u001b[0m: Calculator() takes no arguments"
          ]
        }
      ]
    },
    {
      "cell_type": "code",
      "source": [
        "cal2 = Calculator([6,7,8,9,10])\n",
        "print(cal2.sum()) # 40\n",
        "print(cal2.avg()) #8.0"
      ],
      "metadata": {
        "id": "IJmIXs2kLOu9"
      },
      "execution_count": null,
      "outputs": []
    },
    {
      "cell_type": "markdown",
      "source": [
        "##모듈\n",
        "Q1. 이전 문제에서 작성한 Calculator 클래스를 calculator.py 라는 파일로 저장하자, 그리고 이 파일을 모듈로 사용하려고 한다. 다음처럼 동작하도록 만들어 보자\n"
      ],
      "metadata": {
        "id": "dxlQTTR3LSTJ"
      }
    },
    {
      "cell_type": "code",
      "source": [
        "from calculator import Calculator\n",
        "\n",
        "cal1 = Calculator([1,2,3,4,5])\n",
        "cal1.sum()"
      ],
      "metadata": {
        "id": "pspQg_42LoSP"
      },
      "execution_count": null,
      "outputs": []
    }
  ]
}