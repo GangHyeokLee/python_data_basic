{
  "nbformat": 4,
  "nbformat_minor": 0,
  "metadata": {
    "kernelspec": {
      "display_name": "Python 3",
      "language": "python",
      "name": "python3"
    },
    "language_info": {
      "codemirror_mode": {
        "name": "ipython",
        "version": 3
      },
      "file_extension": ".py",
      "mimetype": "text/x-python",
      "name": "python",
      "nbconvert_exporter": "python",
      "pygments_lexer": "ipython3",
      "version": "3.8.5"
    },
    "toc": {
      "base_numbering": 1,
      "nav_menu": {},
      "number_sections": false,
      "sideBar": true,
      "skip_h1_title": false,
      "title_cell": "Table of Contents",
      "title_sidebar": "Contents",
      "toc_cell": false,
      "toc_position": {},
      "toc_section_display": true,
      "toc_window_display": false
    },
    "colab": {
      "provenance": [],
      "toc_visible": true,
      "include_colab_link": true
    }
  },
  "cells": [
    {
      "cell_type": "markdown",
      "metadata": {
        "id": "view-in-github",
        "colab_type": "text"
      },
      "source": [
        "<a href=\"https://colab.research.google.com/github/GangHyeokLee/python_data_basic/blob/main/1%EC%A3%BC%EC%B0%A8/%EC%9D%B4%EA%B0%95%ED%98%81_4%EC%9D%BC%EC%B0%A8.ipynb\" target=\"_parent\"><img src=\"https://colab.research.google.com/assets/colab-badge.svg\" alt=\"Open In Colab\"/></a>"
      ]
    },
    {
      "cell_type": "markdown",
      "source": [
        "# 과제 1\n",
        "\n",
        "다음 리스트 L의 순서를 아래와 같이 변경하시오.\n",
        "(힌트: pop())\n",
        "\n",
        "변경 전\n",
        "```\n",
        "[1, 3, 5, 7, 9]\n",
        "```\n",
        "변경 후\n",
        "```\n",
        "[3, 5, 7, 9, 1]\n",
        "```"
      ],
      "metadata": {
        "id": "SWm0FSfY99-X"
      }
    },
    {
      "cell_type": "code",
      "source": [
        "L = [1, 3, 5, 7, 9]\n",
        "L.append(L.pop(0))\n",
        "print(L)"
      ],
      "metadata": {
        "id": "1ce9XyRf-Ycp",
        "outputId": "e648e08f-3a9f-4602-b038-531d76f8a693",
        "colab": {
          "base_uri": "https://localhost:8080/"
        }
      },
      "execution_count": 6,
      "outputs": [
        {
          "output_type": "stream",
          "name": "stdout",
          "text": [
            "[3, 5, 7, 9, 1]\n"
          ]
        }
      ]
    },
    {
      "cell_type": "markdown",
      "source": [
        "---\n",
        "# 과제 2\n",
        "\n",
        "동전 던지기 시도 횟수를 입력 받고 각 시도에서 앞면이 나올 확률을 출력하는 프로그램을 작성하시오.\n",
        "- 1~10번째 시도까지: 매 시도마다 앞면이 나올 확률을 출력\n",
        "- 10번째 이후부터: 10의 배수(10, 20, 30,...)마다 앞면이 나올 확률을 출력\n",
        "<br>\n",
        "\n",
        "**출력 예시** \n",
        "\n",
        "\n",
        "```\n",
        "동전 던지기 시도 횟수를 입력(1 ~ 100) : 25\n",
        "  1 번째까지 던지기에서 앞면이 나올 확률 : 0%\n",
        "  2 번째까지 던지기에서 앞면이 나올 확률 : 0%\n",
        "  3 번째까지 던지기에서 앞면이 나올 확률 : 0%\n",
        "  4 번째까지 던지기에서 앞면이 나올 확률 : 25%\n",
        "  5 번째까지 던지기에서 앞면이 나올 확률 : 40%\n",
        "  6 번째까지 던지기에서 앞면이 나올 확률 : 50%\n",
        "  7 번째까지 던지기에서 앞면이 나올 확률 : 43%\n",
        "  8 번째까지 던지기에서 앞면이 나올 확률 : 50%\n",
        "  9 번째까지 던지기에서 앞면이 나올 확률 : 56%\n",
        " 10 번째까지 던지기에서 앞면이 나올 확률 : 60%\n",
        " 20 번째까지 던지기에서 앞면이 나올 확률 : 55%\n",
        "\n",
        "**********************************************\n",
        "총 25번 동전 던지기에서 앞면이 나올 확률: 52%\n",
        "```\n",
        "\n",
        "\n",
        "<br>"
      ],
      "metadata": {
        "id": "I4tmeLZz_Jws"
      }
    },
    {
      "cell_type": "code",
      "source": [
        "import random \n",
        "\n",
        "# 코드를 작성하세요\n",
        "num = int(input(\"동전 던지기 시도 횟수를 입력(1 ~ 100) : \"))\n",
        "for i in range(num):\n",
        "  if i < 10:\n",
        "    print(str(i+1) + \"번째까지 던지기에서 앞면이 나올 확률 : \" + str(round(random.random() *100)) + \"%\")\n",
        "  elif (i+1)%10 == 0:\n",
        "    print(str(i+1) + \"번째까지 던지기에서 앞면이 나올 확률 : \" + str(round(random.random()*100)) + \"%\")\n",
        "  else: continue\n",
        "\n",
        "\n",
        "count = round(random.random()*100)\n",
        "print('\\n**********************************************')\n",
        "print('총 {}번 동전 던지기에서 앞면이 나올 확률: {:.0f}%'.format(num, count))"
      ],
      "metadata": {
        "id": "daeYs0Ap_gpu",
        "outputId": "35a58ece-a314-41ac-afcb-391dca38b696",
        "colab": {
          "base_uri": "https://localhost:8080/"
        }
      },
      "execution_count": 26,
      "outputs": [
        {
          "output_type": "stream",
          "name": "stdout",
          "text": [
            "동전 던지기 시도 횟수를 입력(1 ~ 100) : 90\n",
            "1번째까지 던지기에서 앞면이 나올 확률 : 52%\n",
            "2번째까지 던지기에서 앞면이 나올 확률 : 20%\n",
            "3번째까지 던지기에서 앞면이 나올 확률 : 61%\n",
            "4번째까지 던지기에서 앞면이 나올 확률 : 96%\n",
            "5번째까지 던지기에서 앞면이 나올 확률 : 51%\n",
            "6번째까지 던지기에서 앞면이 나올 확률 : 29%\n",
            "7번째까지 던지기에서 앞면이 나올 확률 : 13%\n",
            "8번째까지 던지기에서 앞면이 나올 확률 : 44%\n",
            "9번째까지 던지기에서 앞면이 나올 확률 : 59%\n",
            "10번째까지 던지기에서 앞면이 나올 확률 : 4%\n",
            "20번째까지 던지기에서 앞면이 나올 확률 : 20%\n",
            "30번째까지 던지기에서 앞면이 나올 확률 : 39%\n",
            "40번째까지 던지기에서 앞면이 나올 확률 : 97%\n",
            "50번째까지 던지기에서 앞면이 나올 확률 : 73%\n",
            "60번째까지 던지기에서 앞면이 나올 확률 : 58%\n",
            "70번째까지 던지기에서 앞면이 나올 확률 : 27%\n",
            "80번째까지 던지기에서 앞면이 나올 확률 : 88%\n",
            "90번째까지 던지기에서 앞면이 나올 확률 : 20%\n",
            "\n",
            "**********************************************\n",
            "총 90번 동전 던지기에서 앞면이 나올 확률: 53%\n"
          ]
        }
      ]
    },
    {
      "cell_type": "markdown",
      "source": [
        "---\n",
        "# 과제 3\n",
        "수식을 입력받아 연산 결과를 출력하는 코드를 작성하시오.<br>\n",
        "(+, -, *, / 연산자만 허용하고, 그 외의 연산자가 입력되었을 경우, 연산자는 허용하지 않는다는 메시지를 출력)\n",
        "\n",
        "**출력 예시**\n",
        "```\n",
        "수식 입력(예: 20 * 40) :20 + 4\n",
        "20.000000 +  4.000000 = 24.000000\n",
        "```\n",
        "\n",
        "```\n",
        "수식 입력(예: 20 * 40) :0.3 * 0\n",
        " 0.300000 *  0.000000 =  0.000000\n",
        "```\n",
        "\n",
        "```\n",
        "수식 입력(예: 20 * 40) :30 / 0\n",
        "0.000000000 로 나누기를 수행할 수 없습니다.\n",
        "```\n",
        "\n",
        "```\n",
        "수식 입력(예: 20 * 40) :30 ? 7\n",
        "? 지원하지 않는 연산자입니다.\n",
        "```"
      ],
      "metadata": {
        "id": "sUtJg6dXAizW"
      }
    },
    {
      "cell_type": "code",
      "metadata": {
        "id": "Fw9eb35Ay88H",
        "outputId": "15f7e194-323a-4e33-ebe3-a9d0c6b36207",
        "colab": {
          "base_uri": "https://localhost:8080/"
        }
      },
      "source": [
        "n = input(\"수식 입력(예: 20 * 40) :\")\n",
        "num = n.split(' ')\n",
        "if num[1] == '+':\n",
        "  print('{:.6f} + {:.6f} = {:.6f}'.format(float(num[0]), float(num[2]), (float(num[0]) + float(num[2]))))\n",
        "elif num[1] == '*':\n",
        "  print('{:.6f} * {:.6f} = {:.6f}'.format(float(num[0]), float(num[2]), (float(num[0]) * float(num[2]))))\n",
        "elif num[1] == '-':\n",
        "  print('{:.6f} - {:.6f} = {:.6f}'.format(float(num[0]), float(num[2]), (float(num[0]) - float(num[2]))))\n",
        "elif num[1] == '/':\n",
        "  if float(num[2]) == 0:\n",
        "    print(num[2] + '로는 나누기를 수행할 수 없습니다.')\n",
        "  else:\n",
        "    print('{:.6f} / {:.6f} = {:.6f}'.format(float(num[0]), float(num[2]), (float(num[0]) / float(num[2]))))\n",
        "else:\n",
        "  print(num[1] + ' 지원하지 않는 연산자입니다.')\n",
        "\n",
        "\n",
        "# 코드를 작성하세요\n"
      ],
      "execution_count": 28,
      "outputs": [
        {
          "output_type": "stream",
          "name": "stdout",
          "text": [
            "수식 입력(예: 20 * 40) :20 * 40\n",
            "20.000000 * 40.000000 = 800.000000\n"
          ]
        }
      ]
    },
    {
      "cell_type": "markdown",
      "source": [
        "---\n",
        "# 과제 4\n",
        "\n",
        "구하려는 소수의 개수를 입력받아, 입력받은 수만큼의 소수를 구하여 출력하시오."
      ],
      "metadata": {
        "id": "kJxNzezfAmV-"
      }
    },
    {
      "cell_type": "markdown",
      "source": [
        "**출력 예시**\n",
        "\n",
        "```\n",
        "구하려는 소수의 개수를 입력:11\n",
        "2\n",
        "3\n",
        "5\n",
        "7\n",
        "11\n",
        "13\n",
        "17\n",
        "19\n",
        "23\n",
        "29\n",
        "31\n",
        "11 개의 소수를 찾았습니다\n",
        "```\n",
        "\n"
      ],
      "metadata": {
        "id": "OCpkC5n7CJUq"
      }
    },
    {
      "cell_type": "code",
      "metadata": {
        "id": "PL7O0E1KzT2J",
        "outputId": "31ed0d56-8ada-4987-ace2-53d3c9249b2d",
        "colab": {
          "base_uri": "https://localhost:8080/"
        }
      },
      "source": [
        "num = int(input('구하려는 소수의 개수를 입력:'))\n",
        "so = [2]\n",
        "print(so[0])\n",
        "n = 3\n",
        "\n",
        "while len(so) < num:\n",
        "  mod = [n%x for x in so]\n",
        "  mod.sort()\n",
        "\n",
        "  if mod[0] != 0:\n",
        "    so.append(n)\n",
        "    print(n)\n",
        "  n+=1\n",
        "    \n",
        "print(\"{} 개의 소수를 찾았습니다.\".format(len(so)))\n",
        "# 코드를 작성하세요"
      ],
      "execution_count": 40,
      "outputs": [
        {
          "output_type": "stream",
          "name": "stdout",
          "text": [
            "구하려는 소수의 개수를 입력:20\n",
            "2\n",
            "3\n",
            "5\n",
            "7\n",
            "11\n",
            "13\n",
            "17\n",
            "19\n",
            "23\n",
            "29\n",
            "31\n",
            "37\n",
            "41\n",
            "43\n",
            "47\n",
            "53\n",
            "59\n",
            "61\n",
            "67\n",
            "71\n",
            "20 개의 소수를 찾았습니다.\n"
          ]
        }
      ]
    },
    {
      "cell_type": "markdown",
      "source": [
        "---\n",
        "# 과제 5\n",
        "\n",
        "다양한 개수의 정수를 입력받아, 각 수가 양수인지 음수인지 구분하여 각각의 개수를 출력하는 코드를 작성하시오.\n",
        "\n",
        "- 입력으로부터 정수리스트로 변환하는 것은 한 줄 코드로 작성\n",
        "- 입력 받은 값 중 0은 무시\n",
        "\n",
        "**출력예시**\n",
        "```\n",
        "정수들을 입력:\n",
        "\n",
        "입력한 숫자가 없습니다\n",
        "양수: 0개, 음수: 0개, 합계: 0\n",
        "```\n",
        "\n",
        "\n",
        "```\n",
        "정수들을 입력:\n",
        "12 -56 25 98 -54 0 77 0\n",
        "양수: 4개, 음수: 2개, 합계: 102\n",
        "```"
      ],
      "metadata": {
        "id": "95cIxyAvApjo"
      }
    },
    {
      "cell_type": "code",
      "metadata": {
        "id": "Ykie_KaDzZvw",
        "outputId": "575a2231-55d7-4dc2-b61a-823a46458303",
        "colab": {
          "base_uri": "https://localhost:8080/"
        }
      },
      "source": [
        "pluse_list = []\n",
        "minus_list = []\n",
        "numbers = list(map(int, input('정수들을 입력:\\n').split()))\n",
        "for i in numbers:\n",
        "  if i > 0:\n",
        "    pluse_list.append(i)\n",
        "  elif i < 0:\n",
        "    minus_list.append(i)\n",
        "  else:\n",
        "    pass\n",
        "\n",
        "print(\"양수: {}개, 음수: {}개, 합계: {}\".format(len(pluse_list), len(minus_list), sum(numbers)))\n",
        "\n",
        "# 코드를 작성하세요    "
      ],
      "execution_count": 34,
      "outputs": [
        {
          "output_type": "stream",
          "name": "stdout",
          "text": [
            "정수들을 입력:\n",
            "12 -56 25 98 -54 0 77 0\n",
            "양수: 4개, 음수: 2개, 합계: 102\n"
          ]
        }
      ]
    },
    {
      "cell_type": "markdown",
      "source": [
        "---\n",
        "# 과제 6\n",
        "\n",
        "과일 가게에는 배, 자몽, 메론, 감을 판매하고 있으며 각 과일의 재고량과 단가를 사전에 저장하여 관리한다.\n",
        "```\n",
        "fruit = {'배' : [2, 1000], '자몽' : [1, 2000], '메론' : [1, 8000], '감' : [6, 800]}\n",
        "```\n",
        "\n",
        "다음과 같이 결과를 출력하는 코드를 작성하시오.\n",
        "- 과일 이름을 입력받아 판매하는 과일인 경우, 재고에서 하나 뱀\n",
        "- 과일 당 재고가 5개는 되도록 사전에서 재고정보와 단가를 읽어들여 5개 미만인 경우는 구입하도록 함\n",
        "\n",
        "\n",
        "**출력 예시**\n",
        "\n",
        "```\n",
        "먹고 싶은 과일은? :사과\n",
        "사과 준비되어 있지 않습니다\n",
        "각 과일 당 최소 5개는 되도록 구입합니다\n",
        "구입에 필요한 총 금액은 : 43000 원 입니다\n",
        "```"
      ],
      "metadata": {
        "id": "FphAS4JnAsPM"
      }
    },
    {
      "cell_type": "markdown",
      "source": [
        "```\n",
        "먹고 싶은 과일은? :배\n",
        "배 맛있게 드세요\n",
        "각 과일 당 최소 5개는 되도록 구입합니다\n",
        "구입에 필요한 총 금액은 : 44000 원 입니다\n",
        "```"
      ],
      "metadata": {
        "id": "P4KoeI5-cC-F"
      }
    },
    {
      "cell_type": "code",
      "source": [
        "fruit = {'배' : [2, 1000], '자몽' : [1, 2000], '메론' : [1, 8000], '감' : [6, 800]}\n",
        "f = input(\"먹고 싶은 과일은? :\")\n",
        "\n",
        "if f not in fruit.keys() or fruit[f][0] == 0:\n",
        "  print(f + '는 준비되어 있지 않습니다.')\n",
        "else:\n",
        "  print(f + '맛있게 드세요.')\n",
        "  fruit[f][0] -= 1\n",
        "\n",
        "v = fruit.values()\n",
        "total = 0\n",
        "for x in v:\n",
        "  if x[0] < 5:\n",
        "    total += (5-x[0])*x[1]\n",
        "\n",
        "\n",
        "print('각 과일 당 최소 5개는 되도록 구입합니다')\n",
        "print('구입에 필요한 총 금액은 : {} 원 입니다'.format(total))"
      ],
      "metadata": {
        "id": "zUG941Gj6-8C",
        "outputId": "f44f2f7a-f26f-47e7-b632-234f6d559061",
        "colab": {
          "base_uri": "https://localhost:8080/"
        }
      },
      "execution_count": 58,
      "outputs": [
        {
          "output_type": "stream",
          "name": "stdout",
          "text": [
            "먹고 싶은 과일은? :배\n",
            "배맛있게 드세요.\n",
            "각 과일 당 최소 5개는 되도록 구입합니다\n",
            "구입에 필요한 총 금액은 : 44000 원 입니다\n"
          ]
        }
      ]
    },
    {
      "cell_type": "markdown",
      "source": [
        "# 과제 7\n",
        "사용자로부터 패스워드를 입력 받아 유효한 패스워드인지 검사하는 코드를 작성하시오.\n",
        "(아래의 조건에 맞게 코딩할 것)\n",
        "\n",
        "①  패스워드 유효성 검사 기능은 함수로 구현 할 것 \n",
        "\n",
        "②  함수에서는 입력 받은 패스워드의 다음 조건을 체크\n",
        "패스워드는 최소한 8자리 이상, 14자리 미만이면 False 반환  \n",
        "영문자, 숫자를 제외한 다른 문자가 있으면 False 반환\n",
        "영문자로만 구성되었으면 False 반환\n",
        "숫자로만 구성되었으면 False 반환\n",
        "패스워드는 최소한 2개의 숫자를 가지고 있어야 함\n",
        "\n",
        "③ 총 5번의 패스워드 유효성 검사, 유효하면 종료함 \n",
        "\n",
        "\n",
        "\n",
        "-------------------------------------------------\n",
        "출력예시\n",
        "```\n",
        "Enter password : hankukUniv  \n",
        "error! 숫자도 포함되어야 함  \n",
        "Invalid password  \n",
        "Enter password : 123456789  \n",
        "error! 영문도 포함되어야 함  \n",
        "Invalid password  \n",
        "Enter password : hankuk Univ  \n",
        "error! 영문자, 숫자로만 구성되어야 함  \n",
        "Invalid password  \n",
        "Enter password : hankuk  \n",
        "error! 8 글자 이상이어야 함  \n",
        "Invalid password  \n",
        "Enter password : abcdefgh1  \n",
        "error! 최소한 2개의 숫자를 포함해야 함  \n",
        "Invalid password  \n",
        "Enter password : hankuk12  \n",
        "Valid password  \n",
        "Enter password : 2023freshman  \n",
        "Valid password  \n",
        "```\n"
      ],
      "metadata": {
        "id": "Jo2J2oYO9P9U"
      }
    },
    {
      "cell_type": "code",
      "metadata": {
        "id": "opQ9M5wAzcRw",
        "outputId": "07726318-ce36-44b3-e734-c021bce3191a",
        "colab": {
          "base_uri": "https://localhost:8080/"
        }
      },
      "source": [
        "import re\n",
        "\n",
        "def pw_check(pw):\n",
        "  numbers = re.findall('\\d', pw)\n",
        "  chars = re.findall('[a-zA-Z]', pw)\n",
        "\n",
        "  if len(pw) < 8 or len(pw) >= 14:\n",
        "    print('error! 8 글자 이상 14글자 미만이어야하 함')\n",
        "    print('Invalid password')\n",
        "    return False\n",
        "  elif len(numbers) + len(chars) < len(pw):\n",
        "    print('error! 영문자, 숫자로만 구성되어야 함')\n",
        "    print('Invalid password')\n",
        "    return False\n",
        "  elif len(numbers) == 0:\n",
        "    print('error! 숫자도 포함되어야 함')\n",
        "    print('Invalid password')\n",
        "    return False\n",
        "  elif len(numbers) < 2:\n",
        "    print('error! 최소한 2개의 숫자를 포함해야 함')\n",
        "    print('Invalid password')\n",
        "    return False\n",
        "  elif len(chars) == 0:\n",
        "    print('error! 영문도 포함되어야 함')\n",
        "    print('Invalid password')\n",
        "    return False\n",
        "  print('Valid password')\n",
        "  return True\n",
        "\n",
        "\n",
        "\n",
        "# 코드를 작성하세요\n",
        "while not pw_check(input('Enter password: ')): continue\n"
      ],
      "execution_count": 66,
      "outputs": [
        {
          "output_type": "stream",
          "name": "stdout",
          "text": [
            "Enter password: 허ㅏ렇라잏ㅇ러ㅏㅎㄹ어힐ㅇㅎ\n",
            "error! 8 글자 이상 14글자 미만이어야하 함\n",
            "Invalid password\n",
            "Enter password: 123453 546h\n",
            "error! 영문자, 숫자로만 구성되어야 함\n",
            "Invalid password\n",
            "Enter password: fggdg212\n",
            "Valid password\n"
          ]
        }
      ]
    },
    {
      "cell_type": "code",
      "source": [],
      "metadata": {
        "id": "GjKN-z_-rXHW"
      },
      "execution_count": 66,
      "outputs": []
    }
  ]
}